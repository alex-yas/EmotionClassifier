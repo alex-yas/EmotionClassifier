{
  "cells": [
    {
      "cell_type": "code",
      "execution_count": 1,
      "outputs": [],
      "source": [
        "import pandas as pd\n",
        "import matplotlib.pyplot as plt\n",
        "import numpy as np\n",
        "import torchvision\n",
        "from torch.utils.data import Dataset\n",
        "import torch\n",
        "from mpl_toolkits.axes_grid1 import ImageGrid\n",
        "import torch.nn as nn\n",
        "import copy\n",
        "import torch.optim as optim\n",
        "from torch.optim import lr_scheduler\n",
        "from torchvision import transforms\n",
        "from sklearn.metrics import classification_report\n",
        "from sklearn.metrics import confusion_matrix\n",
        "import seaborn as sn\n",
        "from sklearn.model_selection import train_test_split\n",
        "import torch.nn.functional as F\n",
        "from torchvision.transforms.transforms import RandomPerspective, RandomRotation\n",
        "from torchsummary import summary\n",
        "from functools import partial\n",
        "from collections import Counter\n",
        "from imblearn.over_sampling import RandomOverSampler"
      ],
      "metadata": {
        "pycharm": {
          "name": "#%%\n"
        },
        "id": "do-xnhCiymaT"
      }
    },
    {
      "cell_type": "code",
      "execution_count": 3,
      "outputs": [
        {
          "output_type": "execute_result",
          "data": {
            "text/plain": [
              "   emotion     Usage                                             pixels\n",
              "0        0  Training  70 80 82 72 58 58 60 63 54 58 60 48 89 115 121...\n",
              "1        0  Training  151 150 147 155 148 133 111 140 170 174 182 15...\n",
              "2        2  Training  231 212 156 164 174 138 161 173 182 200 106 38...\n",
              "3        4  Training  24 32 36 30 32 23 19 20 30 41 21 22 32 34 21 1...\n",
              "4        6  Training  4 0 0 0 0 0 0 0 0 0 0 0 3 15 23 28 48 50 58 84...\n",
              "5        2  Training  55 55 55 55 55 54 60 68 54 85 151 163 170 179 ...\n",
              "6        4  Training  20 17 19 21 25 38 42 42 46 54 56 62 63 66 82 1...\n",
              "7        3  Training  77 78 79 79 78 75 60 55 47 48 58 73 77 79 57 5...\n",
              "8        3  Training  85 84 90 121 101 102 133 153 153 169 177 189 1...\n",
              "9        2  Training  255 254 255 254 254 179 122 107 95 124 149 150..."
            ],
            "text/html": [
              "\n",
              "  <div id=\"df-cab9c913-fb86-4c8a-bdb6-95c553c2ac20\">\n",
              "    <div class=\"colab-df-container\">\n",
              "      <div>\n",
              "<style scoped>\n",
              "    .dataframe tbody tr th:only-of-type {\n",
              "        vertical-align: middle;\n",
              "    }\n",
              "\n",
              "    .dataframe tbody tr th {\n",
              "        vertical-align: top;\n",
              "    }\n",
              "\n",
              "    .dataframe thead th {\n",
              "        text-align: right;\n",
              "    }\n",
              "</style>\n",
              "<table border=\"1\" class=\"dataframe\">\n",
              "  <thead>\n",
              "    <tr style=\"text-align: right;\">\n",
              "      <th></th>\n",
              "      <th>emotion</th>\n",
              "      <th>Usage</th>\n",
              "      <th>pixels</th>\n",
              "    </tr>\n",
              "  </thead>\n",
              "  <tbody>\n",
              "    <tr>\n",
              "      <th>0</th>\n",
              "      <td>0</td>\n",
              "      <td>Training</td>\n",
              "      <td>70 80 82 72 58 58 60 63 54 58 60 48 89 115 121...</td>\n",
              "    </tr>\n",
              "    <tr>\n",
              "      <th>1</th>\n",
              "      <td>0</td>\n",
              "      <td>Training</td>\n",
              "      <td>151 150 147 155 148 133 111 140 170 174 182 15...</td>\n",
              "    </tr>\n",
              "    <tr>\n",
              "      <th>2</th>\n",
              "      <td>2</td>\n",
              "      <td>Training</td>\n",
              "      <td>231 212 156 164 174 138 161 173 182 200 106 38...</td>\n",
              "    </tr>\n",
              "    <tr>\n",
              "      <th>3</th>\n",
              "      <td>4</td>\n",
              "      <td>Training</td>\n",
              "      <td>24 32 36 30 32 23 19 20 30 41 21 22 32 34 21 1...</td>\n",
              "    </tr>\n",
              "    <tr>\n",
              "      <th>4</th>\n",
              "      <td>6</td>\n",
              "      <td>Training</td>\n",
              "      <td>4 0 0 0 0 0 0 0 0 0 0 0 3 15 23 28 48 50 58 84...</td>\n",
              "    </tr>\n",
              "    <tr>\n",
              "      <th>5</th>\n",
              "      <td>2</td>\n",
              "      <td>Training</td>\n",
              "      <td>55 55 55 55 55 54 60 68 54 85 151 163 170 179 ...</td>\n",
              "    </tr>\n",
              "    <tr>\n",
              "      <th>6</th>\n",
              "      <td>4</td>\n",
              "      <td>Training</td>\n",
              "      <td>20 17 19 21 25 38 42 42 46 54 56 62 63 66 82 1...</td>\n",
              "    </tr>\n",
              "    <tr>\n",
              "      <th>7</th>\n",
              "      <td>3</td>\n",
              "      <td>Training</td>\n",
              "      <td>77 78 79 79 78 75 60 55 47 48 58 73 77 79 57 5...</td>\n",
              "    </tr>\n",
              "    <tr>\n",
              "      <th>8</th>\n",
              "      <td>3</td>\n",
              "      <td>Training</td>\n",
              "      <td>85 84 90 121 101 102 133 153 153 169 177 189 1...</td>\n",
              "    </tr>\n",
              "    <tr>\n",
              "      <th>9</th>\n",
              "      <td>2</td>\n",
              "      <td>Training</td>\n",
              "      <td>255 254 255 254 254 179 122 107 95 124 149 150...</td>\n",
              "    </tr>\n",
              "  </tbody>\n",
              "</table>\n",
              "</div>\n",
              "      <button class=\"colab-df-convert\" onclick=\"convertToInteractive('df-cab9c913-fb86-4c8a-bdb6-95c553c2ac20')\"\n",
              "              title=\"Convert this dataframe to an interactive table.\"\n",
              "              style=\"display:none;\">\n",
              "        \n",
              "  <svg xmlns=\"http://www.w3.org/2000/svg\" height=\"24px\"viewBox=\"0 0 24 24\"\n",
              "       width=\"24px\">\n",
              "    <path d=\"M0 0h24v24H0V0z\" fill=\"none\"/>\n",
              "    <path d=\"M18.56 5.44l.94 2.06.94-2.06 2.06-.94-2.06-.94-.94-2.06-.94 2.06-2.06.94zm-11 1L8.5 8.5l.94-2.06 2.06-.94-2.06-.94L8.5 2.5l-.94 2.06-2.06.94zm10 10l.94 2.06.94-2.06 2.06-.94-2.06-.94-.94-2.06-.94 2.06-2.06.94z\"/><path d=\"M17.41 7.96l-1.37-1.37c-.4-.4-.92-.59-1.43-.59-.52 0-1.04.2-1.43.59L10.3 9.45l-7.72 7.72c-.78.78-.78 2.05 0 2.83L4 21.41c.39.39.9.59 1.41.59.51 0 1.02-.2 1.41-.59l7.78-7.78 2.81-2.81c.8-.78.8-2.07 0-2.86zM5.41 20L4 18.59l7.72-7.72 1.47 1.35L5.41 20z\"/>\n",
              "  </svg>\n",
              "      </button>\n",
              "      \n",
              "  <style>\n",
              "    .colab-df-container {\n",
              "      display:flex;\n",
              "      flex-wrap:wrap;\n",
              "      gap: 12px;\n",
              "    }\n",
              "\n",
              "    .colab-df-convert {\n",
              "      background-color: #E8F0FE;\n",
              "      border: none;\n",
              "      border-radius: 50%;\n",
              "      cursor: pointer;\n",
              "      display: none;\n",
              "      fill: #1967D2;\n",
              "      height: 32px;\n",
              "      padding: 0 0 0 0;\n",
              "      width: 32px;\n",
              "    }\n",
              "\n",
              "    .colab-df-convert:hover {\n",
              "      background-color: #E2EBFA;\n",
              "      box-shadow: 0px 1px 2px rgba(60, 64, 67, 0.3), 0px 1px 3px 1px rgba(60, 64, 67, 0.15);\n",
              "      fill: #174EA6;\n",
              "    }\n",
              "\n",
              "    [theme=dark] .colab-df-convert {\n",
              "      background-color: #3B4455;\n",
              "      fill: #D2E3FC;\n",
              "    }\n",
              "\n",
              "    [theme=dark] .colab-df-convert:hover {\n",
              "      background-color: #434B5C;\n",
              "      box-shadow: 0px 1px 3px 1px rgba(0, 0, 0, 0.15);\n",
              "      filter: drop-shadow(0px 1px 2px rgba(0, 0, 0, 0.3));\n",
              "      fill: #FFFFFF;\n",
              "    }\n",
              "  </style>\n",
              "\n",
              "      <script>\n",
              "        const buttonEl =\n",
              "          document.querySelector('#df-cab9c913-fb86-4c8a-bdb6-95c553c2ac20 button.colab-df-convert');\n",
              "        buttonEl.style.display =\n",
              "          google.colab.kernel.accessAllowed ? 'block' : 'none';\n",
              "\n",
              "        async function convertToInteractive(key) {\n",
              "          const element = document.querySelector('#df-cab9c913-fb86-4c8a-bdb6-95c553c2ac20');\n",
              "          const dataTable =\n",
              "            await google.colab.kernel.invokeFunction('convertToInteractive',\n",
              "                                                     [key], {});\n",
              "          if (!dataTable) return;\n",
              "\n",
              "          const docLinkHtml = 'Like what you see? Visit the ' +\n",
              "            '<a target=\"_blank\" href=https://colab.research.google.com/notebooks/data_table.ipynb>data table notebook</a>'\n",
              "            + ' to learn more about interactive tables.';\n",
              "          element.innerHTML = '';\n",
              "          dataTable['output_type'] = 'display_data';\n",
              "          await google.colab.output.renderOutput(dataTable, element);\n",
              "          const docLink = document.createElement('div');\n",
              "          docLink.innerHTML = docLinkHtml;\n",
              "          element.appendChild(docLink);\n",
              "        }\n",
              "      </script>\n",
              "    </div>\n",
              "  </div>\n",
              "  "
            ]
          },
          "metadata": {},
          "execution_count": 3
        }
      ],
      "source": [
        "df = pd.read_csv('icml_face_data.csv')\n",
        "df.head(10)"
      ],
      "metadata": {
        "pycharm": {
          "name": "#%%\n"
        },
        "colab": {
          "base_uri": "https://localhost:8080/",
          "height": 363
        },
        "id": "jIY0ofbaymaV",
        "outputId": "c9574487-193e-4023-ef27-a231a91e0ae1"
      }
    },
    {
      "cell_type": "code",
      "execution_count": 4,
      "outputs": [
        {
          "output_type": "execute_result",
          "data": {
            "text/plain": [
              "3    8989\n",
              "6    6198\n",
              "4    6077\n",
              "2    5121\n",
              "0    4953\n",
              "5    4002\n",
              "1     547\n",
              "Name: emotion, dtype: int64"
            ]
          },
          "metadata": {},
          "execution_count": 4
        }
      ],
      "source": [
        "df = df.rename({' Usage':'usage', ' pixels':'pixels'}, axis =1)\n",
        "df = df.drop(['usage'],axis=1)\n",
        "df['emotion'].value_counts()"
      ],
      "metadata": {
        "pycharm": {
          "name": "#%%\n"
        },
        "colab": {
          "base_uri": "https://localhost:8080/"
        },
        "id": "LIyqqnIRymaW",
        "outputId": "ef1d6f2b-91ad-4ef9-a5d0-5628fdd2f06a"
      }
    },
    {
      "cell_type": "code",
      "execution_count": 5,
      "outputs": [
        {
          "output_type": "execute_result",
          "data": {
            "text/plain": [
              "1    6198\n",
              "0    6077\n",
              "Name: emotion, dtype: int64"
            ]
          },
          "metadata": {},
          "execution_count": 5
        }
      ],
      "source": [
        "sad_neutral = df[(df['emotion'] == 4) | (df['emotion'] == 6)].copy()\n",
        "sad_neutral['emotion'] = np.where(sad_neutral['emotion'] == 4, 0, 1)\n",
        "sad_neutral['emotion'].value_counts()"
      ],
      "metadata": {
        "pycharm": {
          "name": "#%%\n"
        },
        "colab": {
          "base_uri": "https://localhost:8080/"
        },
        "id": "rkm13m00ymaW",
        "outputId": "05b0bd72-2dad-4cd4-bcd0-89b3956db1d5"
      }
    },
    {
      "cell_type": "code",
      "execution_count": 6,
      "outputs": [],
      "source": [
        "def split(df):\n",
        "  return  df.drop(['emotion'], axis=1), df['emotion']"
      ],
      "metadata": {
        "pycharm": {
          "name": "#%%\n"
        },
        "id": "TsHjegu8ymaW"
      }
    },
    {
      "cell_type": "code",
      "execution_count": 7,
      "outputs": [],
      "source": [
        "X_train, X_test_final = train_test_split(df, test_size=0.1, random_state=1,stratify=df['emotion'])\n",
        "X_train, X_val = train_test_split(X_train, test_size=0.2, random_state=1, stratify=X_train['emotion'])\n",
        "X_test = X_test_final.copy()\n",
        "X_test_final, y_test_final = split(X_test_final)"
      ],
      "metadata": {
        "pycharm": {
          "name": "#%%\n"
        },
        "id": "O60X42j9ymaX"
      }
    },
    {
      "cell_type": "code",
      "execution_count": 8,
      "outputs": [
        {
          "output_type": "execute_result",
          "data": {
            "text/plain": [
              "4    8837\n",
              "3    6472\n",
              "2    3687\n",
              "0    3566\n",
              "5    2882\n",
              "1     394\n",
              "Name: emotion, dtype: int64"
            ]
          },
          "metadata": {},
          "execution_count": 8
        }
      ],
      "source": [
        "X_train['emotion'] = np.where(X_train['emotion'] == 6, 4, X_train['emotion'])\n",
        "X_val['emotion'] = np.where(X_val['emotion'] == 6, 4, X_val['emotion'])\n",
        "X_test['emotion'] = np.where(X_test['emotion'] == 6, 4, X_test['emotion'])\n",
        "\n",
        "\n",
        "X_train['emotion'].value_counts()"
      ],
      "metadata": {
        "pycharm": {
          "name": "#%%\n"
        },
        "colab": {
          "base_uri": "https://localhost:8080/"
        },
        "id": "UTEj6VKrymaX",
        "outputId": "0a534515-17ff-4ad7-e490-ccda9e8dfc4e"
      }
    },
    {
      "cell_type": "code",
      "execution_count": 9,
      "outputs": [],
      "source": [
        "X_train, y_train = split(X_train)\n",
        "X_val, y_val = split(X_val)\n",
        "X_test, y_test = split(X_test)\n",
        "X_train = pd.DataFrame(map(lambda x: np.fromstring(x,dtype=int,sep=' '), np.array(X_train).flatten()))\n",
        "X_test = pd.DataFrame(map(lambda x: np.fromstring(x,dtype=int,sep=' '), np.array(X_test).flatten()))\n",
        "X_test_final = pd.DataFrame(map(lambda x: np.fromstring(x,dtype=int,sep=' '), np.array(X_test_final).flatten()))\n",
        "X_val = pd.DataFrame(map(lambda x: np.fromstring(x,dtype=int,sep=' '), np.array(X_val).flatten()))"
      ],
      "metadata": {
        "pycharm": {
          "name": "#%%\n"
        },
        "id": "vP2P0jaMymaX"
      }
    },
    {
      "cell_type": "code",
      "execution_count": 10,
      "outputs": [
        {
          "output_type": "stream",
          "name": "stdout",
          "text": [
            "[(0, 3566), (1, 394), (2, 3687), (3, 6472), (4, 8837), (5, 2882)]\n",
            "[(0, 7500), (1, 700), (2, 7500), (3, 8500), (4, 8837), (5, 7000)]\n"
          ]
        }
      ],
      "source": [
        "print(sorted(Counter(y_train).items()))\n",
        "ros = RandomOverSampler(random_state=0,sampling_strategy={0: 7500, 1: 700, 2: 7500, 3: 8500, 4: 8837, 5:7000})\n",
        "X_train, y_train = ros.fit_resample(X_train, y_train)\n",
        "print(sorted(Counter(y_train).items()))"
      ],
      "metadata": {
        "pycharm": {
          "name": "#%%\n"
        },
        "colab": {
          "base_uri": "https://localhost:8080/"
        },
        "id": "g2g7Gb22ymaY",
        "outputId": "6a85216f-c475-48b8-9af4-7d213372b83c"
      }
    },
    {
      "cell_type": "code",
      "execution_count": 11,
      "outputs": [],
      "source": [
        "class FeatureDataset(Dataset):\n",
        "    def __init__(self, X, y):\n",
        "        self.X_train = X.values\n",
        "        self.y_train = y.values\n",
        "\n",
        "    def __len__(self):\n",
        "        return len(self.y_train)\n",
        "    \n",
        "    def __getitem__(self, idx):\n",
        "      return torch.tensor(np.array(self.X_train[idx]).reshape((48,48)),dtype=torch.float)[None, :, :], self.y_train[idx]"
      ],
      "metadata": {
        "pycharm": {
          "name": "#%%\n"
        },
        "id": "LJhd70RcymaY"
      }
    },
    {
      "cell_type": "code",
      "execution_count": 12,
      "outputs": [
        {
          "output_type": "stream",
          "name": "stdout",
          "text": [
            "Tesla T4\n"
          ]
        }
      ],
      "source": [
        "data_transforms = {\n",
        "    'train': transforms.Compose([\n",
        "        transforms.RandomHorizontalFlip(),\n",
        "        transforms.RandomPerspective(distortion_scale=0.1),\n",
        "        transforms.RandomRotation((-10,10)),\n",
        "        transforms.ToTensor(),\n",
        "    ]),\n",
        "    'val': transforms.Compose([\n",
        "        transforms.ToTensor()\n",
        "    ]),\n",
        "    'test': transforms.Compose([\n",
        "        transforms.ToTensor()\n",
        "    ])\n",
        "}\n",
        "batch_size = 5\n",
        "image_datasets = {'train': FeatureDataset(X_train,y_train), \n",
        "                  'val': FeatureDataset(X_val,y_val),\n",
        "                  'test': FeatureDataset(X_test, y_test),\n",
        "                  'test_final': FeatureDataset(X_test_final, y_test_final)}\n",
        "dataset_sizes = {x: len(image_datasets[x]) for x in ['train', 'val','test','test_final']}\n",
        "dataloaders = {x: torch.utils.data.DataLoader(image_datasets[x], batch_size=batch_size, shuffle=True, num_workers=2)\n",
        "               for x in ['train', 'val','test','test_final']}\n",
        "class_names = ['Angry', 'Disgust', 'Fear', 'Happy', 'Sad_Neutral', 'Surprise']\n",
        "device = torch.device(\"cuda:0\" if torch.cuda.is_available() else \"cpu\")\n",
        "print(torch.cuda.get_device_name(0))"
      ],
      "metadata": {
        "pycharm": {
          "name": "#%%\n"
        },
        "colab": {
          "base_uri": "https://localhost:8080/"
        },
        "id": "AmG4YWVaymaZ",
        "outputId": "26cd1028-2937-43b1-aa35-afece2c53f5f"
      }
    },
    {
      "cell_type": "code",
      "execution_count": 13,
      "outputs": [],
      "source": [
        "def imshow(inp, title=None):\n",
        "    fig = plt.figure(figsize=(8., 8.))\n",
        "    grid = ImageGrid(fig, 111, nrows_ncols=(2, 2), axes_pad=0.5)\n",
        "    if title is not None:\n",
        "        for ax, im, tit in zip(grid, inp,title):\n",
        "            ax.imshow(np.array(im).squeeze(),cmap='gray')\n",
        "            ax.set_title(tit)            \n",
        "    else:\n",
        "        for ax, im in zip(grid, inp):\n",
        "            ax.imshow(im,cmap='gray')"
      ],
      "metadata": {
        "pycharm": {
          "name": "#%%\n"
        },
        "id": "IQGLulPmymaZ"
      }
    },
    {
      "cell_type": "code",
      "execution_count": 14,
      "outputs": [
        {
          "output_type": "display_data",
          "data": {
            "text/plain": [
              "<Figure size 576x576 with 8 Axes>"
            ],
            "image/png": "[encoded data removed]"
          },
          "metadata": {
            "needs_background": "light"
          }
        }
      ],
      "source": [
        "inputs, classes = next(iter(dataloaders['train']))\n",
        "out = torchvision.utils.make_grid(inputs)\n",
        "imshow(inputs,[class_names[x] for x in classes])"
      ],
      "metadata": {
        "pycharm": {
          "name": "#%%\n"
        },
        "colab": {
          "base_uri": "https://localhost:8080/",
          "height": 499
        },
        "id": "o4WMPA9Bymaa",
        "outputId": "983b48b2-db12-472d-a58a-c0a306d17342"
      }
    },
    {
      "cell_type": "code",
      "execution_count": 15,
      "outputs": [],
      "source": [
        "class block(nn.Module):\n",
        "    def __init__(self, filters, subsample=False):\n",
        "        super().__init__()\n",
        "        s = 0.5 if subsample else 1.0\n",
        "        \n",
        "        self.conv1 = nn.Conv2d(int(filters*s), filters, kernel_size=3,stride=int(1/s), padding=1, bias=False)\n",
        "        self.bn1   = nn.BatchNorm2d(filters, track_running_stats=True)\n",
        "        self.relu1 = nn.ReLU()\n",
        "        self.conv2 = nn.Conv2d(filters, filters, kernel_size=3, stride=1, padding=1, bias=False)\n",
        "        self.bn2   = nn.BatchNorm2d(filters, track_running_stats=True)\n",
        "        self.dropout = nn.Dropout2d(0.2)\n",
        "        self.relu2 = nn.ReLU()\n",
        "\n",
        "        self.downsample = nn.AvgPool2d(kernel_size=1, stride=2)\n",
        "        \n",
        "        for m in self.modules():\n",
        "            if isinstance(m, nn.Conv2d):\n",
        "                nn.init.kaiming_normal_(m.weight, mode='fan_out', nonlinearity='relu')\n",
        "            elif isinstance(m, nn.BatchNorm2d):\n",
        "                nn.init.constant_(m.weight, 1)\n",
        "                nn.init.constant_(m.bias, 0)   \n",
        "        \n",
        "    def shortcut(self, z, x):\n",
        "        if x.shape != z.shape:\n",
        "            d = self.downsample(x)\n",
        "            p = torch.mul(d, 0)\n",
        "            return z + torch.cat((d, p), dim=1)\n",
        "        else:\n",
        "            return z + x        \n",
        "    \n",
        "    def forward(self, x, shortcuts=False):\n",
        "        z = self.conv1(x)\n",
        "        z = self.bn1(z)\n",
        "        z = self.relu1(z)\n",
        "        \n",
        "        z = self.conv2(z)\n",
        "        z = self.bn2(z)\n",
        "        z = self.dropout(z)\n",
        "        \n",
        "        if shortcuts:\n",
        "            z = self.shortcut(z, x)\n",
        "\n",
        "        z = self.relu2(z)\n",
        "        \n",
        "        return z\n",
        "    \n",
        "\n",
        "\n",
        "class ResNet(nn.Module):\n",
        "    def __init__(self, n, n_classes,shortcuts=True):\n",
        "        super().__init__()\n",
        "        self.shortcuts = shortcuts\n",
        "        \n",
        "        self.convIn = nn.Conv2d(1, 16, kernel_size=3, stride=1, padding=1, bias=False)\n",
        "        self.bnIn   = nn.BatchNorm2d(16, track_running_stats=True)\n",
        "        self.relu   = nn.ReLU()\n",
        "        \n",
        "        self.stack1 = nn.ModuleList([block(16, subsample=False) for _ in range(n)])\n",
        "\n",
        "        self.stack2a = block(32, subsample=True)\n",
        "        self.stack2b = nn.ModuleList([block(32, subsample=False) for _ in range(n-1)])\n",
        "\n",
        "        self.stack3a = block(64, subsample=True)\n",
        "        self.stack3b = nn.ModuleList([block(64, subsample=False) for _ in range(n-1)])\n",
        "        \n",
        "        self.avgpool = nn.AdaptiveAvgPool2d((1, 1))\n",
        "        self.fcOut   = nn.Linear(64, n_classes, bias=True)\n",
        "        self.softmax = nn.LogSoftmax(dim=-1)\n",
        "        \n",
        "        for m in self.modules():\n",
        "            if isinstance(m, nn.Linear):\n",
        "                nn.init.kaiming_normal(m.weight)\n",
        "                m.bias.data.zero_()      \n",
        "        \n",
        "        \n",
        "    def forward(self, x):     \n",
        "        z = self.convIn(x)\n",
        "        z = self.bnIn(z)\n",
        "        z = self.relu(z)\n",
        "        \n",
        "        for l in self.stack1: z = l(z, shortcuts=self.shortcuts)\n",
        "        \n",
        "        z = self.stack2a(z, shortcuts=self.shortcuts)\n",
        "        for l in self.stack2b: \n",
        "            z = l(z, shortcuts=self.shortcuts)\n",
        "        \n",
        "        z = self.stack3a(z, shortcuts=self.shortcuts)\n",
        "        for l in self.stack3b: \n",
        "            z = l(z, shortcuts=self.shortcuts)\n",
        "\n",
        "        z = self.avgpool(z)\n",
        "        z = z.view(z.size(0), -1)\n",
        "        z = self.fcOut(z)\n",
        "        return self.softmax(z)"
      ],
      "metadata": {
        "pycharm": {
          "name": "#%%\n"
        },
        "id": "EHznPw83ymaa"
      }
    },
    {
      "cell_type": "code",
      "execution_count": 16,
      "outputs": [],
      "source": [
        "def train_model(model, criterion, optimizer, scheduler, dataloaders, dataset_sizes,num_epochs=25):\n",
        "\n",
        "    best_model_wts = copy.deepcopy(model.state_dict())\n",
        "    best_acc = 0.0\n",
        "\n",
        "    for epoch in range(num_epochs):\n",
        "        print('Epoch {}/{}'.format(epoch+1, num_epochs))\n",
        "        print('-' * 10)\n",
        "\n",
        "        for phase in ['train', 'val']:\n",
        "            if phase == 'train':\n",
        "                model.train()\n",
        "            else:\n",
        "                model.eval()\n",
        "\n",
        "            running_loss = 0.0\n",
        "            running_corrects = 0\n",
        "\n",
        "            for features, labels in dataloaders[phase]:\n",
        "                features = features.to(device)\n",
        "                labels = labels.to(device)\n",
        "                optimizer.zero_grad()\n",
        "                labels = torch.squeeze(labels)\n",
        "                with torch.set_grad_enabled(phase == 'train'):\n",
        "                    outputs = model(features)\n",
        "\n",
        "                    _, preds = torch.max(outputs, dim = 1)\n",
        "                    loss = criterion(outputs, labels)\n",
        "\n",
        "                    if phase == 'train':\n",
        "                        loss.backward()\n",
        "                        optimizer.step()\n",
        "\n",
        "                running_loss += loss.item() * features.size(0)\n",
        "                running_corrects += torch.sum(preds == labels.data)\n",
        "            if phase == 'train':\n",
        "                scheduler.step()\n",
        "\n",
        "            epoch_loss = running_loss / dataset_sizes[phase]\n",
        "            epoch_acc = running_corrects.double() / dataset_sizes[phase]\n",
        "\n",
        "            print('{} Loss: {:.4f} Acc: {:.4f}'.format(phase, epoch_loss, epoch_acc))\n",
        "\n",
        "            if phase == 'val' and epoch_acc > best_acc:\n",
        "                best_acc = epoch_acc\n",
        "                best_model_wts = copy.deepcopy(model.state_dict())\n",
        "\n",
        "        print()\n",
        "\n",
        "    print('Best val Acc: {:4f}'.format(best_acc))\n",
        "\n",
        "    model.load_state_dict(best_model_wts)\n",
        "    return model"
      ],
      "metadata": {
        "pycharm": {
          "name": "#%%\n"
        },
        "id": "oWZZw4FZymab"
      }
    },
    {
      "cell_type": "code",
      "execution_count": 17,
      "outputs": [
        {
          "output_type": "stream",
          "name": "stderr",
          "text": [
            "/usr/local/lib/python3.7/dist-packages/ipykernel_launcher.py:72: UserWarning: nn.init.kaiming_normal is now deprecated in favor of nn.init.kaiming_normal_.\n"
          ]
        },
        {
          "output_type": "stream",
          "name": "stdout",
          "text": [
            "----------------------------------------------------------------\n",
            "        Layer (type)               Output Shape         Param #\n",
            "================================================================\n",
            "            Conv2d-1           [-1, 16, 48, 48]             144\n",
            "       BatchNorm2d-2           [-1, 16, 48, 48]              32\n",
            "              ReLU-3           [-1, 16, 48, 48]               0\n",
            "            Conv2d-4           [-1, 16, 48, 48]           2,304\n",
            "       BatchNorm2d-5           [-1, 16, 48, 48]              32\n",
            "              ReLU-6           [-1, 16, 48, 48]               0\n",
            "            Conv2d-7           [-1, 16, 48, 48]           2,304\n",
            "       BatchNorm2d-8           [-1, 16, 48, 48]              32\n",
            "         Dropout2d-9           [-1, 16, 48, 48]               0\n",
            "             ReLU-10           [-1, 16, 48, 48]               0\n",
            "            block-11           [-1, 16, 48, 48]               0\n",
            "           Conv2d-12           [-1, 16, 48, 48]           2,304\n",
            "      BatchNorm2d-13           [-1, 16, 48, 48]              32\n",
            "             ReLU-14           [-1, 16, 48, 48]               0\n",
            "           Conv2d-15           [-1, 16, 48, 48]           2,304\n",
            "      BatchNorm2d-16           [-1, 16, 48, 48]              32\n",
            "        Dropout2d-17           [-1, 16, 48, 48]               0\n",
            "             ReLU-18           [-1, 16, 48, 48]               0\n",
            "            block-19           [-1, 16, 48, 48]               0\n",
            "           Conv2d-20           [-1, 32, 24, 24]           4,608\n",
            "      BatchNorm2d-21           [-1, 32, 24, 24]              64\n",
            "             ReLU-22           [-1, 32, 24, 24]               0\n",
            "           Conv2d-23           [-1, 32, 24, 24]           9,216\n",
            "      BatchNorm2d-24           [-1, 32, 24, 24]              64\n",
            "        Dropout2d-25           [-1, 32, 24, 24]               0\n",
            "        AvgPool2d-26           [-1, 16, 24, 24]               0\n",
            "             ReLU-27           [-1, 32, 24, 24]               0\n",
            "            block-28           [-1, 32, 24, 24]               0\n",
            "           Conv2d-29           [-1, 32, 24, 24]           9,216\n",
            "      BatchNorm2d-30           [-1, 32, 24, 24]              64\n",
            "             ReLU-31           [-1, 32, 24, 24]               0\n",
            "           Conv2d-32           [-1, 32, 24, 24]           9,216\n",
            "      BatchNorm2d-33           [-1, 32, 24, 24]              64\n",
            "        Dropout2d-34           [-1, 32, 24, 24]               0\n",
            "             ReLU-35           [-1, 32, 24, 24]               0\n",
            "            block-36           [-1, 32, 24, 24]               0\n",
            "           Conv2d-37           [-1, 64, 12, 12]          18,432\n",
            "      BatchNorm2d-38           [-1, 64, 12, 12]             128\n",
            "             ReLU-39           [-1, 64, 12, 12]               0\n",
            "           Conv2d-40           [-1, 64, 12, 12]          36,864\n",
            "      BatchNorm2d-41           [-1, 64, 12, 12]             128\n",
            "        Dropout2d-42           [-1, 64, 12, 12]               0\n",
            "        AvgPool2d-43           [-1, 32, 12, 12]               0\n",
            "             ReLU-44           [-1, 64, 12, 12]               0\n",
            "            block-45           [-1, 64, 12, 12]               0\n",
            "           Conv2d-46           [-1, 64, 12, 12]          36,864\n",
            "      BatchNorm2d-47           [-1, 64, 12, 12]             128\n",
            "             ReLU-48           [-1, 64, 12, 12]               0\n",
            "           Conv2d-49           [-1, 64, 12, 12]          36,864\n",
            "      BatchNorm2d-50           [-1, 64, 12, 12]             128\n",
            "        Dropout2d-51           [-1, 64, 12, 12]               0\n",
            "             ReLU-52           [-1, 64, 12, 12]               0\n",
            "            block-53           [-1, 64, 12, 12]               0\n",
            "AdaptiveAvgPool2d-54             [-1, 64, 1, 1]               0\n",
            "           Linear-55                    [-1, 6]             390\n",
            "       LogSoftmax-56                    [-1, 6]               0\n",
            "================================================================\n",
            "Total params: 171,958\n",
            "Trainable params: 171,958\n",
            "Non-trainable params: 0\n",
            "----------------------------------------------------------------\n",
            "Input size (MB): 0.01\n",
            "Forward/backward pass size (MB): 8.82\n",
            "Params size (MB): 0.66\n",
            "Estimated Total Size (MB): 9.49\n",
            "----------------------------------------------------------------\n"
          ]
        }
      ],
      "source": [
        "model_1 = ResNet(2,6)\n",
        "summary(model_1.cuda(),(1,48,48))"
      ],
      "metadata": {
        "pycharm": {
          "name": "#%%\n"
        },
        "colab": {
          "base_uri": "https://localhost:8080/"
        },
        "id": "ONqsXVyUymab",
        "outputId": "b005e30b-204a-44dd-b522-df83c91ed9a9"
      }
    },
    {
      "cell_type": "code",
      "execution_count": 20,
      "outputs": [
        {
          "output_type": "stream",
          "name": "stderr",
          "text": [
            "/usr/local/lib/python3.7/dist-packages/ipykernel_launcher.py:72: UserWarning: nn.init.kaiming_normal is now deprecated in favor of nn.init.kaiming_normal_.\n"
          ]
        },
        {
          "output_type": "stream",
          "name": "stdout",
          "text": [
            "----------------------------------------------------------------\n",
            "        Layer (type)               Output Shape         Param #\n",
            "================================================================\n",
            "            Conv2d-1           [-1, 16, 48, 48]             144\n",
            "       BatchNorm2d-2           [-1, 16, 48, 48]              32\n",
            "              ReLU-3           [-1, 16, 48, 48]               0\n",
            "            Conv2d-4           [-1, 16, 48, 48]           2,304\n",
            "       BatchNorm2d-5           [-1, 16, 48, 48]              32\n",
            "              ReLU-6           [-1, 16, 48, 48]               0\n",
            "            Conv2d-7           [-1, 16, 48, 48]           2,304\n",
            "       BatchNorm2d-8           [-1, 16, 48, 48]              32\n",
            "         Dropout2d-9           [-1, 16, 48, 48]               0\n",
            "             ReLU-10           [-1, 16, 48, 48]               0\n",
            "            block-11           [-1, 16, 48, 48]               0\n",
            "           Conv2d-12           [-1, 16, 48, 48]           2,304\n",
            "      BatchNorm2d-13           [-1, 16, 48, 48]              32\n",
            "             ReLU-14           [-1, 16, 48, 48]               0\n",
            "           Conv2d-15           [-1, 16, 48, 48]           2,304\n",
            "      BatchNorm2d-16           [-1, 16, 48, 48]              32\n",
            "        Dropout2d-17           [-1, 16, 48, 48]               0\n",
            "             ReLU-18           [-1, 16, 48, 48]               0\n",
            "            block-19           [-1, 16, 48, 48]               0\n",
            "           Conv2d-20           [-1, 16, 48, 48]           2,304\n",
            "      BatchNorm2d-21           [-1, 16, 48, 48]              32\n",
            "             ReLU-22           [-1, 16, 48, 48]               0\n",
            "           Conv2d-23           [-1, 16, 48, 48]           2,304\n",
            "      BatchNorm2d-24           [-1, 16, 48, 48]              32\n",
            "        Dropout2d-25           [-1, 16, 48, 48]               0\n",
            "             ReLU-26           [-1, 16, 48, 48]               0\n",
            "            block-27           [-1, 16, 48, 48]               0\n",
            "           Conv2d-28           [-1, 32, 24, 24]           4,608\n",
            "      BatchNorm2d-29           [-1, 32, 24, 24]              64\n",
            "             ReLU-30           [-1, 32, 24, 24]               0\n",
            "           Conv2d-31           [-1, 32, 24, 24]           9,216\n",
            "      BatchNorm2d-32           [-1, 32, 24, 24]              64\n",
            "        Dropout2d-33           [-1, 32, 24, 24]               0\n",
            "        AvgPool2d-34           [-1, 16, 24, 24]               0\n",
            "             ReLU-35           [-1, 32, 24, 24]               0\n",
            "            block-36           [-1, 32, 24, 24]               0\n",
            "           Conv2d-37           [-1, 32, 24, 24]           9,216\n",
            "      BatchNorm2d-38           [-1, 32, 24, 24]              64\n",
            "             ReLU-39           [-1, 32, 24, 24]               0\n",
            "           Conv2d-40           [-1, 32, 24, 24]           9,216\n",
            "      BatchNorm2d-41           [-1, 32, 24, 24]              64\n",
            "        Dropout2d-42           [-1, 32, 24, 24]               0\n",
            "             ReLU-43           [-1, 32, 24, 24]               0\n",
            "            block-44           [-1, 32, 24, 24]               0\n",
            "           Conv2d-45           [-1, 32, 24, 24]           9,216\n",
            "      BatchNorm2d-46           [-1, 32, 24, 24]              64\n",
            "             ReLU-47           [-1, 32, 24, 24]               0\n",
            "           Conv2d-48           [-1, 32, 24, 24]           9,216\n",
            "      BatchNorm2d-49           [-1, 32, 24, 24]              64\n",
            "        Dropout2d-50           [-1, 32, 24, 24]               0\n",
            "             ReLU-51           [-1, 32, 24, 24]               0\n",
            "            block-52           [-1, 32, 24, 24]               0\n",
            "           Conv2d-53           [-1, 64, 12, 12]          18,432\n",
            "      BatchNorm2d-54           [-1, 64, 12, 12]             128\n",
            "             ReLU-55           [-1, 64, 12, 12]               0\n",
            "           Conv2d-56           [-1, 64, 12, 12]          36,864\n",
            "      BatchNorm2d-57           [-1, 64, 12, 12]             128\n",
            "        Dropout2d-58           [-1, 64, 12, 12]               0\n",
            "        AvgPool2d-59           [-1, 32, 12, 12]               0\n",
            "             ReLU-60           [-1, 64, 12, 12]               0\n",
            "            block-61           [-1, 64, 12, 12]               0\n",
            "           Conv2d-62           [-1, 64, 12, 12]          36,864\n",
            "      BatchNorm2d-63           [-1, 64, 12, 12]             128\n",
            "             ReLU-64           [-1, 64, 12, 12]               0\n",
            "           Conv2d-65           [-1, 64, 12, 12]          36,864\n",
            "      BatchNorm2d-66           [-1, 64, 12, 12]             128\n",
            "        Dropout2d-67           [-1, 64, 12, 12]               0\n",
            "             ReLU-68           [-1, 64, 12, 12]               0\n",
            "            block-69           [-1, 64, 12, 12]               0\n",
            "           Conv2d-70           [-1, 64, 12, 12]          36,864\n",
            "      BatchNorm2d-71           [-1, 64, 12, 12]             128\n",
            "             ReLU-72           [-1, 64, 12, 12]               0\n",
            "           Conv2d-73           [-1, 64, 12, 12]          36,864\n",
            "      BatchNorm2d-74           [-1, 64, 12, 12]             128\n",
            "        Dropout2d-75           [-1, 64, 12, 12]               0\n",
            "             ReLU-76           [-1, 64, 12, 12]               0\n",
            "            block-77           [-1, 64, 12, 12]               0\n",
            "AdaptiveAvgPool2d-78             [-1, 64, 1, 1]               0\n",
            "           Linear-79                    [-1, 6]             390\n",
            "       LogSoftmax-80                    [-1, 6]               0\n",
            "================================================================\n",
            "Total params: 269,174\n",
            "Trainable params: 269,174\n",
            "Non-trainable params: 0\n",
            "----------------------------------------------------------------\n",
            "Input size (MB): 0.01\n",
            "Forward/backward pass size (MB): 12.76\n",
            "Params size (MB): 1.03\n",
            "Estimated Total Size (MB): 13.80\n",
            "----------------------------------------------------------------\n"
          ]
        }
      ],
      "source": [
        "model_2 = ResNet(3,6)\n",
        "summary(model_2.cuda(),(1,48,48))"
      ],
      "metadata": {
        "pycharm": {
          "name": "#%%\n"
        },
        "colab": {
          "base_uri": "https://localhost:8080/"
        },
        "id": "FyzqP6K0ymab",
        "outputId": "a30b742e-2296-484c-802e-6bea02cf43a5"
      }
    },
    {
      "cell_type": "code",
      "execution_count": 23,
      "outputs": [
        {
          "output_type": "stream",
          "name": "stdout",
          "text": [
            "----------------------------------------------------------------\n",
            "        Layer (type)               Output Shape         Param #\n",
            "================================================================\n",
            "            Conv2d-1           [-1, 64, 24, 24]             576\n",
            "       BatchNorm2d-2           [-1, 64, 24, 24]             128\n",
            "              ReLU-3           [-1, 64, 24, 24]               0\n",
            "         MaxPool2d-4           [-1, 64, 12, 12]               0\n",
            "            Conv2d-5           [-1, 64, 12, 12]          36,864\n",
            "       BatchNorm2d-6           [-1, 64, 12, 12]             128\n",
            "              ReLU-7           [-1, 64, 12, 12]               0\n",
            "            Conv2d-8           [-1, 64, 12, 12]          36,864\n",
            "       BatchNorm2d-9           [-1, 64, 12, 12]             128\n",
            "             ReLU-10           [-1, 64, 12, 12]               0\n",
            "       BasicBlock-11           [-1, 64, 12, 12]               0\n",
            "           Conv2d-12           [-1, 64, 12, 12]          36,864\n",
            "      BatchNorm2d-13           [-1, 64, 12, 12]             128\n",
            "             ReLU-14           [-1, 64, 12, 12]               0\n",
            "           Conv2d-15           [-1, 64, 12, 12]          36,864\n",
            "      BatchNorm2d-16           [-1, 64, 12, 12]             128\n",
            "             ReLU-17           [-1, 64, 12, 12]               0\n",
            "       BasicBlock-18           [-1, 64, 12, 12]               0\n",
            "           Conv2d-19            [-1, 128, 6, 6]          73,728\n",
            "      BatchNorm2d-20            [-1, 128, 6, 6]             256\n",
            "             ReLU-21            [-1, 128, 6, 6]               0\n",
            "           Conv2d-22            [-1, 128, 6, 6]         147,456\n",
            "      BatchNorm2d-23            [-1, 128, 6, 6]             256\n",
            "           Conv2d-24            [-1, 128, 6, 6]           8,192\n",
            "      BatchNorm2d-25            [-1, 128, 6, 6]             256\n",
            "             ReLU-26            [-1, 128, 6, 6]               0\n",
            "       BasicBlock-27            [-1, 128, 6, 6]               0\n",
            "           Conv2d-28            [-1, 128, 6, 6]         147,456\n",
            "      BatchNorm2d-29            [-1, 128, 6, 6]             256\n",
            "             ReLU-30            [-1, 128, 6, 6]               0\n",
            "           Conv2d-31            [-1, 128, 6, 6]         147,456\n",
            "      BatchNorm2d-32            [-1, 128, 6, 6]             256\n",
            "             ReLU-33            [-1, 128, 6, 6]               0\n",
            "       BasicBlock-34            [-1, 128, 6, 6]               0\n",
            "           Conv2d-35            [-1, 256, 3, 3]         294,912\n",
            "      BatchNorm2d-36            [-1, 256, 3, 3]             512\n",
            "             ReLU-37            [-1, 256, 3, 3]               0\n",
            "           Conv2d-38            [-1, 256, 3, 3]         589,824\n",
            "      BatchNorm2d-39            [-1, 256, 3, 3]             512\n",
            "           Conv2d-40            [-1, 256, 3, 3]          32,768\n",
            "      BatchNorm2d-41            [-1, 256, 3, 3]             512\n",
            "             ReLU-42            [-1, 256, 3, 3]               0\n",
            "       BasicBlock-43            [-1, 256, 3, 3]               0\n",
            "           Conv2d-44            [-1, 256, 3, 3]         589,824\n",
            "      BatchNorm2d-45            [-1, 256, 3, 3]             512\n",
            "             ReLU-46            [-1, 256, 3, 3]               0\n",
            "           Conv2d-47            [-1, 256, 3, 3]         589,824\n",
            "      BatchNorm2d-48            [-1, 256, 3, 3]             512\n",
            "             ReLU-49            [-1, 256, 3, 3]               0\n",
            "       BasicBlock-50            [-1, 256, 3, 3]               0\n",
            "           Conv2d-51            [-1, 512, 2, 2]       1,179,648\n",
            "      BatchNorm2d-52            [-1, 512, 2, 2]           1,024\n",
            "             ReLU-53            [-1, 512, 2, 2]               0\n",
            "           Conv2d-54            [-1, 512, 2, 2]       2,359,296\n",
            "      BatchNorm2d-55            [-1, 512, 2, 2]           1,024\n",
            "           Conv2d-56            [-1, 512, 2, 2]         131,072\n",
            "      BatchNorm2d-57            [-1, 512, 2, 2]           1,024\n",
            "             ReLU-58            [-1, 512, 2, 2]               0\n",
            "       BasicBlock-59            [-1, 512, 2, 2]               0\n",
            "           Conv2d-60            [-1, 512, 2, 2]       2,359,296\n",
            "      BatchNorm2d-61            [-1, 512, 2, 2]           1,024\n",
            "             ReLU-62            [-1, 512, 2, 2]               0\n",
            "           Conv2d-63            [-1, 512, 2, 2]       2,359,296\n",
            "      BatchNorm2d-64            [-1, 512, 2, 2]           1,024\n",
            "             ReLU-65            [-1, 512, 2, 2]               0\n",
            "       BasicBlock-66            [-1, 512, 2, 2]               0\n",
            "AdaptiveAvgPool2d-67            [-1, 512, 1, 1]               0\n",
            "           Linear-68                    [-1, 6]           3,078\n",
            "================================================================\n",
            "Total params: 11,170,758\n",
            "Trainable params: 11,170,758\n",
            "Non-trainable params: 0\n",
            "----------------------------------------------------------------\n",
            "Input size (MB): 0.01\n",
            "Forward/backward pass size (MB): 3.00\n",
            "Params size (MB): 42.61\n",
            "Estimated Total Size (MB): 45.62\n",
            "----------------------------------------------------------------\n"
          ]
        }
      ],
      "source": [
        "model_3 = torchvision.models.resnet18(pretrained=False)\n",
        "model_3.conv1 = nn.Conv2d(1,64, kernel_size=(3,3), stride=(2,2), padding=(1,1), bias=False)\n",
        "model_3.fc = nn.Linear(in_features=512, out_features=6)\n",
        "summary(model_3.cuda(),(1,48,48))"
      ],
      "metadata": {
        "pycharm": {
          "name": "#%%\n"
        },
        "id": "7xcrfwtzymac",
        "colab": {
          "base_uri": "https://localhost:8080/"
        },
        "outputId": "bfb10637-8468-408c-f6f2-c6d6351f98f1"
      }
    },
    {
      "cell_type": "code",
      "execution_count": null,
      "outputs": [
        {
          "output_type": "stream",
          "name": "stdout",
          "text": [
            "Epoch 1/22\n",
            "----------\n",
            "train Loss: 1.6565 Acc: 0.2498\n",
            "val Loss: 1.4888 Acc: 0.3879\n",
            "\n",
            "Epoch 2/22\n",
            "----------\n",
            "train Loss: 1.4379 Acc: 0.3960\n",
            "val Loss: 1.2287 Acc: 0.5121\n",
            "\n",
            "Epoch 3/22\n",
            "----------\n",
            "train Loss: 1.2335 Acc: 0.5052\n",
            "val Loss: 1.0876 Acc: 0.5878\n",
            "\n",
            "Epoch 4/22\n",
            "----------\n",
            "train Loss: 1.1375 Acc: 0.5484\n",
            "val Loss: 1.0810 Acc: 0.5927\n",
            "\n",
            "Epoch 5/22\n",
            "----------\n",
            "train Loss: 1.0748 Acc: 0.5744\n",
            "val Loss: 1.0252 Acc: 0.6161\n",
            "\n",
            "Epoch 6/22\n",
            "----------\n",
            "train Loss: 1.0189 Acc: 0.5977\n",
            "val Loss: 1.0726 Acc: 0.5870\n",
            "\n",
            "Epoch 7/22\n",
            "----------\n",
            "train Loss: 0.8974 Acc: 0.6484\n",
            "val Loss: 0.9643 Acc: 0.6421\n",
            "\n",
            "Epoch 8/22\n",
            "----------\n",
            "train Loss: 0.8660 Acc: 0.6602\n",
            "val Loss: 0.9691 Acc: 0.6464\n",
            "\n",
            "Epoch 9/22\n",
            "----------\n",
            "train Loss: 0.8478 Acc: 0.6696\n",
            "val Loss: 0.9590 Acc: 0.6469\n",
            "\n",
            "Epoch 10/22\n",
            "----------\n",
            "train Loss: 0.8362 Acc: 0.6742\n",
            "val Loss: 0.9620 Acc: 0.6424\n",
            "\n",
            "Epoch 11/22\n",
            "----------\n",
            "train Loss: 0.8220 Acc: 0.6782\n",
            "val Loss: 0.9634 Acc: 0.6469\n",
            "\n",
            "Epoch 12/22\n",
            "----------\n",
            "train Loss: 0.8073 Acc: 0.6860\n",
            "val Loss: 0.9464 Acc: 0.6515\n",
            "\n",
            "Epoch 13/22\n",
            "----------\n",
            "train Loss: 0.7927 Acc: 0.6918\n",
            "val Loss: 0.9655 Acc: 0.6393\n",
            "\n",
            "Epoch 14/22\n",
            "----------\n",
            "train Loss: 0.7864 Acc: 0.6938\n",
            "val Loss: 0.9592 Acc: 0.6485\n",
            "\n",
            "Epoch 15/22\n",
            "----------\n",
            "train Loss: 0.7818 Acc: 0.6991\n",
            "val Loss: 0.9642 Acc: 0.6437\n",
            "\n",
            "Epoch 16/22\n",
            "----------\n",
            "train Loss: 0.7836 Acc: 0.6973\n",
            "val Loss: 0.9708 Acc: 0.6469\n",
            "\n",
            "Epoch 17/22\n",
            "----------\n",
            "train Loss: 0.7798 Acc: 0.6958\n",
            "val Loss: 0.9697 Acc: 0.6502\n",
            "\n",
            "Epoch 18/22\n",
            "----------\n",
            "train Loss: 0.7768 Acc: 0.7005\n",
            "val Loss: 0.9579 Acc: 0.6472\n",
            "\n",
            "Epoch 19/22\n",
            "----------\n",
            "train Loss: 0.7747 Acc: 0.6991\n",
            "val Loss: 0.9577 Acc: 0.6505\n",
            "\n",
            "Epoch 20/22\n",
            "----------\n",
            "train Loss: 0.7753 Acc: 0.6997\n",
            "val Loss: 0.9629 Acc: 0.6466\n",
            "\n",
            "Epoch 21/22\n",
            "----------\n",
            "train Loss: 0.7752 Acc: 0.6975\n",
            "val Loss: 0.9593 Acc: 0.6477\n",
            "\n",
            "Epoch 22/22\n",
            "----------\n",
            "train Loss: 0.7758 Acc: 0.6993\n",
            "val Loss: 0.9759 Acc: 0.6424\n",
            "\n",
            "Best val Acc: 0.651548\n"
          ]
        }
      ],
      "source": [
        "criterion = nn.CrossEntropyLoss()\n",
        "optimizer_conv = optim.Adam(model_1.parameters(),lr=0.005,betas=(0.9,0.999),eps=1e-08,weight_decay=0,amsgrad=False)\n",
        "exp_lr_scheduler = lr_scheduler.StepLR(optimizer_conv, step_size=6)\n",
        "model_1 = model_1.to(device)\n",
        "model_1 = train_model(model_1, criterion, optimizer_conv,exp_lr_scheduler,dataloaders, dataset_sizes, num_epochs=22)"
      ],
      "metadata": {
        "pycharm": {
          "name": "#%%\n"
        },
        "colab": {
          "base_uri": "https://localhost:8080/"
        },
        "id": "d2GNgQ8jymac",
        "outputId": "08fb11e9-feab-4732-d59b-471ea80187c1"
      }
    },
    {
      "cell_type": "code",
      "execution_count": null,
      "outputs": [
        {
          "output_type": "stream",
          "name": "stdout",
          "text": [
            "Epoch 1/19\n",
            "----------\n",
            "train Loss: 1.6605 Acc: 0.2509\n",
            "val Loss: 1.5505 Acc: 0.3489\n",
            "\n",
            "Epoch 2/19\n",
            "----------\n",
            "train Loss: 1.5289 Acc: 0.3375\n",
            "val Loss: 1.3754 Acc: 0.4356\n",
            "\n",
            "Epoch 3/19\n",
            "----------\n",
            "train Loss: 1.3130 Acc: 0.4626\n",
            "val Loss: 1.1006 Acc: 0.5836\n",
            "\n",
            "Epoch 4/19\n",
            "----------\n",
            "train Loss: 1.1790 Acc: 0.5313\n",
            "val Loss: 1.0603 Acc: 0.6113\n",
            "\n",
            "Epoch 5/19\n",
            "----------\n",
            "train Loss: 1.1016 Acc: 0.5604\n",
            "val Loss: 1.0109 Acc: 0.6198\n",
            "\n",
            "Epoch 6/19\n",
            "----------\n",
            "train Loss: 1.0546 Acc: 0.5845\n",
            "val Loss: 0.9960 Acc: 0.6217\n",
            "\n",
            "Epoch 7/19\n",
            "----------\n",
            "train Loss: 0.9370 Acc: 0.6322\n",
            "val Loss: 0.9400 Acc: 0.6542\n",
            "\n",
            "Epoch 8/19\n",
            "----------\n",
            "train Loss: 0.9022 Acc: 0.6448\n",
            "val Loss: 0.9506 Acc: 0.6529\n",
            "\n",
            "Epoch 9/19\n",
            "----------\n",
            "train Loss: 0.8834 Acc: 0.6518\n",
            "val Loss: 0.9581 Acc: 0.6511\n",
            "\n",
            "Epoch 10/19\n",
            "----------\n",
            "train Loss: 0.8707 Acc: 0.6592\n",
            "val Loss: 0.9480 Acc: 0.6529\n",
            "\n",
            "Epoch 11/19\n",
            "----------\n",
            "train Loss: 0.8540 Acc: 0.6646\n",
            "val Loss: 0.9283 Acc: 0.6594\n",
            "\n",
            "Epoch 12/19\n",
            "----------\n",
            "train Loss: 0.8439 Acc: 0.6715\n",
            "val Loss: 0.9507 Acc: 0.6488\n",
            "\n",
            "Epoch 13/19\n",
            "----------\n",
            "train Loss: 0.8223 Acc: 0.6783\n",
            "val Loss: 0.9509 Acc: 0.6519\n",
            "\n",
            "Epoch 14/19\n",
            "----------\n",
            "train Loss: 0.8219 Acc: 0.6790\n",
            "val Loss: 0.9285 Acc: 0.6596\n",
            "\n",
            "Epoch 15/19\n",
            "----------\n",
            "train Loss: 0.8191 Acc: 0.6806\n",
            "val Loss: 0.9375 Acc: 0.6556\n",
            "\n",
            "Epoch 16/19\n",
            "----------\n",
            "train Loss: 0.8161 Acc: 0.6797\n",
            "val Loss: 0.9429 Acc: 0.6548\n",
            "\n",
            "Epoch 17/19\n",
            "----------\n",
            "train Loss: 0.8147 Acc: 0.6819\n",
            "val Loss: 0.9402 Acc: 0.6585\n",
            "\n",
            "Epoch 18/19\n",
            "----------\n",
            "train Loss: 0.8100 Acc: 0.6852\n",
            "val Loss: 0.9417 Acc: 0.6573\n",
            "\n",
            "Epoch 19/19\n",
            "----------\n",
            "train Loss: 0.8113 Acc: 0.6820\n",
            "val Loss: 0.9346 Acc: 0.6577\n",
            "\n",
            "Best val Acc: 0.659598\n"
          ]
        }
      ],
      "source": [
        "criterion = nn.CrossEntropyLoss()\n",
        "optimizer_conv = optim.Adam(model_2.parameters(),lr=0.005)\n",
        "exp_lr_scheduler = lr_scheduler.StepLR(optimizer_conv, step_size=6)\n",
        "model_2 = model_2.to(device)\n",
        "model_2 = train_model(model_2, criterion, optimizer_conv,exp_lr_scheduler,dataloaders, dataset_sizes, num_epochs=19)   "
      ],
      "metadata": {
        "pycharm": {
          "name": "#%%\n"
        },
        "colab": {
          "base_uri": "https://localhost:8080/"
        },
        "id": "MBCzWVG4ymad",
        "outputId": "2d235eb7-05b9-4662-f1fd-26bc28576e9b"
      }
    },
    {
      "cell_type": "code",
      "execution_count": null,
      "outputs": [
        {
          "output_type": "stream",
          "name": "stdout",
          "text": [
            "Epoch 1/15\n",
            "----------\n",
            "train Loss: 1.5046 Acc: 0.3641\n",
            "val Loss: 1.5142 Acc: 0.3975\n",
            "\n",
            "Epoch 2/15\n",
            "----------\n",
            "train Loss: 1.1946 Acc: 0.5180\n",
            "val Loss: 1.1530 Acc: 0.5449\n",
            "\n",
            "Epoch 3/15\n",
            "----------\n",
            "train Loss: 0.9934 Acc: 0.6063\n",
            "val Loss: 1.0819 Acc: 0.6009\n",
            "\n",
            "Epoch 4/15\n",
            "----------\n",
            "train Loss: 0.8010 Acc: 0.6929\n",
            "val Loss: 1.0752 Acc: 0.6085\n",
            "\n",
            "Epoch 5/15\n",
            "----------\n",
            "train Loss: 0.6155 Acc: 0.7701\n",
            "val Loss: 1.1248 Acc: 0.6040\n",
            "\n",
            "Epoch 6/15\n",
            "----------\n",
            "train Loss: 0.4778 Acc: 0.8271\n",
            "val Loss: 1.2080 Acc: 0.6101\n",
            "\n",
            "Epoch 7/15\n",
            "----------\n",
            "train Loss: 0.2328 Acc: 0.9210\n",
            "val Loss: 1.3599 Acc: 0.6251\n",
            "\n",
            "Epoch 8/15\n",
            "----------\n",
            "train Loss: 0.1540 Acc: 0.9500\n",
            "val Loss: 1.4471 Acc: 0.6305\n",
            "\n",
            "Epoch 9/15\n",
            "----------\n",
            "train Loss: 0.1125 Acc: 0.9650\n",
            "val Loss: 1.6494 Acc: 0.6339\n",
            "\n",
            "Epoch 10/15\n",
            "----------\n",
            "train Loss: 0.0836 Acc: 0.9738\n",
            "val Loss: 1.7664 Acc: 0.6313\n",
            "\n",
            "Epoch 11/15\n",
            "----------\n",
            "train Loss: 0.0657 Acc: 0.9805\n",
            "val Loss: 1.8611 Acc: 0.6299\n",
            "\n",
            "Epoch 12/15\n",
            "----------\n",
            "train Loss: 0.0511 Acc: 0.9841\n",
            "val Loss: 2.1001 Acc: 0.6316\n",
            "\n",
            "Epoch 13/15\n",
            "----------\n",
            "train Loss: 0.0365 Acc: 0.9898\n",
            "val Loss: 2.1310 Acc: 0.6286\n",
            "\n",
            "Epoch 14/15\n",
            "----------\n",
            "train Loss: 0.0318 Acc: 0.9912\n",
            "val Loss: 2.0191 Acc: 0.6350\n",
            "\n",
            "Epoch 15/15\n",
            "----------\n",
            "train Loss: 0.0281 Acc: 0.9921\n",
            "val Loss: 2.0366 Acc: 0.6330\n",
            "\n",
            "Best val Acc: 0.634985\n"
          ]
        }
      ],
      "source": [
        "criterion = nn.CrossEntropyLoss()\n",
        "optimizer_conv = optim.Adam(model_3.parameters(),lr=0.005)\n",
        "exp_lr_scheduler = lr_scheduler.StepLR(optimizer_conv, step_size=6)\n",
        "model_3 = model_3.to(device)\n",
        "model_3 = train_model(model_3, criterion, optimizer_conv,exp_lr_scheduler,dataloaders, dataset_sizes, num_epochs=15)"
      ],
      "metadata": {
        "pycharm": {
          "name": "#%%\n"
        },
        "colab": {
          "base_uri": "https://localhost:8080/"
        },
        "id": "KNJ0EEw3ymae",
        "outputId": "f3ba17e7-848a-4a4a-953b-c6e9ade97c31"
      }
    },
    {
      "cell_type": "code",
      "execution_count": 18,
      "outputs": [],
      "source": [
        "def print_report(model, dataloaders, class_names):\n",
        "  y_pred = torch.tensor([], dtype=int).to(device)\n",
        "  y_true = torch.tensor([], dtype=int).to(device)\n",
        "  with torch.no_grad():\n",
        "      model.eval()\n",
        "      for inputs, labels in dataloaders['test']:\n",
        "          inputs = inputs.to(device)\n",
        "          labels = labels.to(device)\n",
        "          outputs = model(inputs)\n",
        "          _, outputs = torch.max(outputs, dim = 1)\n",
        "          y_pred = torch.cat((y_pred,outputs),0)\n",
        "          y_true = torch.cat((y_true,labels),0)\n",
        "  y_true = y_true.cpu()\n",
        "  y_pred = y_pred.cpu()\n",
        "  print(classification_report(y_true,y_pred,target_names=class_names))\n",
        "  return  y_pred, y_true"
      ],
      "metadata": {
        "pycharm": {
          "name": "#%%\n"
        },
        "id": "D8ir7oBGymaf"
      }
    },
    {
      "cell_type": "code",
      "execution_count": 19,
      "outputs": [
        {
          "output_type": "stream",
          "name": "stdout",
          "text": [
            "              precision    recall  f1-score   support\n",
            "\n",
            "       Angry       0.51      0.52      0.51       495\n",
            "     Disgust       0.56      0.27      0.37        55\n",
            "        Fear       0.42      0.39      0.40       512\n",
            "       Happy       0.77      0.84      0.81       899\n",
            " Sad_Neutral       0.68      0.66      0.67      1228\n",
            "    Surprise       0.69      0.74      0.71       400\n",
            "\n",
            "    accuracy                           0.65      3589\n",
            "   macro avg       0.61      0.57      0.58      3589\n",
            "weighted avg       0.64      0.65      0.64      3589\n",
            "\n"
          ]
        },
        {
          "output_type": "execute_result",
          "data": {
            "text/plain": [
              "<matplotlib.axes._subplots.AxesSubplot at 0x7f891c106a90>"
            ]
          },
          "metadata": {},
          "execution_count": 19
        },
        {
          "output_type": "display_data",
          "data": {
            "text/plain": [
              "<Figure size 720x504 with 2 Axes>"
            ],
            "image/png": "[encoded data removed]"
          },
          "metadata": {
            "needs_background": "light"
          }
        }
      ],
      "source": [
        "y_pred, y_true = print_report(model_1, dataloaders, class_names)\n",
        "conf_matr = confusion_matrix(y_pred, y_true)\n",
        "plt.figure(figsize = (10,7))\n",
        "sn.heatmap(conf_matr, annot=True)"
      ],
      "metadata": {
        "pycharm": {
          "name": "#%%\n"
        },
        "colab": {
          "base_uri": "https://localhost:8080/",
          "height": 673
        },
        "id": "DrYaLKjPymaf",
        "outputId": "99d53989-79b4-4107-a7ab-b1b466c8a74b"
      }
    },
    {
      "cell_type": "code",
      "execution_count": 21,
      "outputs": [
        {
          "output_type": "stream",
          "name": "stdout",
          "text": [
            "              precision    recall  f1-score   support\n",
            "\n",
            "       Angry       0.52      0.49      0.51       495\n",
            "     Disgust       0.61      0.25      0.36        55\n",
            "        Fear       0.37      0.36      0.36       512\n",
            "       Happy       0.79      0.82      0.81       899\n",
            " Sad_Neutral       0.67      0.68      0.67      1228\n",
            "    Surprise       0.68      0.73      0.70       400\n",
            "\n",
            "    accuracy                           0.64      3589\n",
            "   macro avg       0.61      0.56      0.57      3589\n",
            "weighted avg       0.64      0.64      0.64      3589\n",
            "\n"
          ]
        },
        {
          "output_type": "execute_result",
          "data": {
            "text/plain": [
              "<matplotlib.axes._subplots.AxesSubplot at 0x7f891bef3a50>"
            ]
          },
          "metadata": {},
          "execution_count": 21
        },
        {
          "output_type": "display_data",
          "data": {
            "text/plain": [
              "<Figure size 720x504 with 2 Axes>"
            ],
            "image/png": "[encoded data removed]"
          },
          "metadata": {
            "needs_background": "light"
          }
        }
      ],
      "source": [
        "y_pred, y_true = print_report(model_2, dataloaders, class_names)\n",
        "conf_matr = confusion_matrix(y_pred, y_true)\n",
        "plt.figure(figsize = (10,7))\n",
        "sn.heatmap(conf_matr, annot=True)"
      ],
      "metadata": {
        "pycharm": {
          "name": "#%%\n"
        },
        "colab": {
          "base_uri": "https://localhost:8080/",
          "height": 671
        },
        "id": "xFpaCiOAymaf",
        "outputId": "b8711f29-11c0-4ff9-e536-d965560e0113"
      }
    },
    {
      "cell_type": "code",
      "execution_count": 24,
      "outputs": [
        {
          "output_type": "stream",
          "name": "stdout",
          "text": [
            "              precision    recall  f1-score   support\n",
            "\n",
            "       Angry       0.52      0.46      0.49       495\n",
            "     Disgust       0.48      0.44      0.46        55\n",
            "        Fear       0.48      0.40      0.44       512\n",
            "       Happy       0.78      0.76      0.77       899\n",
            " Sad_Neutral       0.61      0.71      0.66      1228\n",
            "    Surprise       0.76      0.71      0.73       400\n",
            "\n",
            "    accuracy                           0.64      3589\n",
            "   macro avg       0.60      0.58      0.59      3589\n",
            "weighted avg       0.64      0.64      0.64      3589\n",
            "\n"
          ]
        },
        {
          "output_type": "execute_result",
          "data": {
            "text/plain": [
              "<matplotlib.axes._subplots.AxesSubplot at 0x7f89161be350>"
            ]
          },
          "metadata": {},
          "execution_count": 24
        },
        {
          "output_type": "display_data",
          "data": {
            "text/plain": [
              "<Figure size 720x504 with 2 Axes>"
            ],
            "image/png": "[encoded data removed]"
          },
          "metadata": {
            "needs_background": "light"
          }
        }
      ],
      "source": [
        "model_3 = model_3.to(device)\n",
        "y_pred, y_true = print_report(model_3, dataloaders, class_names)\n",
        "conf_matr = confusion_matrix(y_pred, y_true)\n",
        "plt.figure(figsize = (10,7))\n",
        "sn.heatmap(conf_matr, annot=True)"
      ],
      "metadata": {
        "pycharm": {
          "name": "#%%\n"
        },
        "colab": {
          "base_uri": "https://localhost:8080/",
          "height": 671
        },
        "id": "x1cwfxzCymag",
        "outputId": "f8b14fbb-1375-4b7f-afed-cae0ec356f48"
      }
    },
    {
      "cell_type": "code",
      "execution_count": 25,
      "outputs": [
        {
          "output_type": "stream",
          "name": "stdout",
          "text": [
            "[(0, 4375), (1, 4462)]\n"
          ]
        },
        {
          "output_type": "stream",
          "name": "stderr",
          "text": [
            "/usr/local/lib/python3.7/dist-packages/imblearn/utils/_validation.py:300: UserWarning: After over-sampling, the number of samples (9000) in class 0 will be larger than the number of samples in the majority class (class #1 -> 4462)\n",
            "  f\"After over-sampling, the number of samples ({n_samples})\"\n",
            "/usr/local/lib/python3.7/dist-packages/imblearn/utils/_validation.py:300: UserWarning: After over-sampling, the number of samples (9000) in class 1 will be larger than the number of samples in the majority class (class #1 -> 4462)\n",
            "  f\"After over-sampling, the number of samples ({n_samples})\"\n"
          ]
        },
        {
          "output_type": "stream",
          "name": "stdout",
          "text": [
            "[(0, 9000), (1, 9000)]\n"
          ]
        }
      ],
      "source": [
        "X_train, X_test = train_test_split(sad_neutral, test_size=0.1, random_state=1,stratify=sad_neutral['emotion'])\n",
        "\n",
        "X_train, X_val = train_test_split(X_train, test_size=0.2, random_state=1, stratify=X_train['emotion'])\n",
        "\n",
        "X_test, y_test = split(X_test)\n",
        "X_val, y_val = split(X_val)\n",
        "X_train, y_train = split(X_train)\n",
        "\n",
        "X_train = pd.DataFrame(map(lambda x: np.fromstring(x,dtype=int,sep=' '), np.array(X_train).flatten()))\n",
        "X_test = pd.DataFrame(map(lambda x: np.fromstring(x,dtype=int,sep=' '), np.array(X_test).flatten()))\n",
        "X_val = pd.DataFrame(map(lambda x: np.fromstring(x,dtype=int,sep=' '), np.array(X_val).flatten()))\n",
        "\n",
        "print(sorted(Counter(y_train).items()))\n",
        "ros = RandomOverSampler(random_state=0,sampling_strategy={0: 9000, 1: 9000})\n",
        "X_train, y_train = ros.fit_resample(X_train, y_train)\n",
        "print(sorted(Counter(y_train).items()))\n"
      ],
      "metadata": {
        "pycharm": {
          "name": "#%%\n"
        },
        "colab": {
          "base_uri": "https://localhost:8080/"
        },
        "id": "kD1QaeKjymag",
        "outputId": "a5d3f7a6-d437-47dd-9e7f-7bccec7cce5e"
      }
    },
    {
      "cell_type": "code",
      "execution_count": 26,
      "outputs": [],
      "source": [
        "image_datasets = {'train': FeatureDataset(X_train,y_train), \n",
        "                  'val': FeatureDataset(X_val,y_val),\n",
        "                  'test': FeatureDataset(X_test, y_test)}\n",
        "dataset_sizes_last = {x: len(image_datasets[x]) for x in ['train', 'val','test']}\n",
        "dataloaders_last = {x: torch.utils.data.DataLoader(image_datasets[x], batch_size=batch_size, shuffle=True, num_workers=2)\n",
        "               for x in ['train', 'val','test']}\n",
        "class_names_last = ['Sad', 'Neutral']"
      ],
      "metadata": {
        "pycharm": {
          "name": "#%%\n"
        },
        "id": "JKEN_SFWymag"
      }
    },
    {
      "cell_type": "code",
      "execution_count": 39,
      "outputs": [
        {
          "output_type": "stream",
          "name": "stdout",
          "text": [
            "----------------------------------------------------------------\n",
            "        Layer (type)               Output Shape         Param #\n",
            "================================================================\n",
            "            Conv2d-1           [-1, 64, 24, 24]             576\n",
            "       BatchNorm2d-2           [-1, 64, 24, 24]             128\n",
            "              ReLU-3           [-1, 64, 24, 24]               0\n",
            "         MaxPool2d-4           [-1, 64, 12, 12]               0\n",
            "            Conv2d-5           [-1, 64, 12, 12]          36,864\n",
            "       BatchNorm2d-6           [-1, 64, 12, 12]             128\n",
            "              ReLU-7           [-1, 64, 12, 12]               0\n",
            "            Conv2d-8           [-1, 64, 12, 12]          36,864\n",
            "       BatchNorm2d-9           [-1, 64, 12, 12]             128\n",
            "             ReLU-10           [-1, 64, 12, 12]               0\n",
            "       BasicBlock-11           [-1, 64, 12, 12]               0\n",
            "           Conv2d-12           [-1, 64, 12, 12]          36,864\n",
            "      BatchNorm2d-13           [-1, 64, 12, 12]             128\n",
            "             ReLU-14           [-1, 64, 12, 12]               0\n",
            "           Conv2d-15           [-1, 64, 12, 12]          36,864\n",
            "      BatchNorm2d-16           [-1, 64, 12, 12]             128\n",
            "             ReLU-17           [-1, 64, 12, 12]               0\n",
            "       BasicBlock-18           [-1, 64, 12, 12]               0\n",
            "           Conv2d-19            [-1, 128, 6, 6]          73,728\n",
            "      BatchNorm2d-20            [-1, 128, 6, 6]             256\n",
            "             ReLU-21            [-1, 128, 6, 6]               0\n",
            "           Conv2d-22            [-1, 128, 6, 6]         147,456\n",
            "      BatchNorm2d-23            [-1, 128, 6, 6]             256\n",
            "           Conv2d-24            [-1, 128, 6, 6]           8,192\n",
            "      BatchNorm2d-25            [-1, 128, 6, 6]             256\n",
            "             ReLU-26            [-1, 128, 6, 6]               0\n",
            "       BasicBlock-27            [-1, 128, 6, 6]               0\n",
            "           Conv2d-28            [-1, 128, 6, 6]         147,456\n",
            "      BatchNorm2d-29            [-1, 128, 6, 6]             256\n",
            "             ReLU-30            [-1, 128, 6, 6]               0\n",
            "           Conv2d-31            [-1, 128, 6, 6]         147,456\n",
            "      BatchNorm2d-32            [-1, 128, 6, 6]             256\n",
            "             ReLU-33            [-1, 128, 6, 6]               0\n",
            "       BasicBlock-34            [-1, 128, 6, 6]               0\n",
            "           Conv2d-35            [-1, 256, 3, 3]         294,912\n",
            "      BatchNorm2d-36            [-1, 256, 3, 3]             512\n",
            "             ReLU-37            [-1, 256, 3, 3]               0\n",
            "           Conv2d-38            [-1, 256, 3, 3]         589,824\n",
            "      BatchNorm2d-39            [-1, 256, 3, 3]             512\n",
            "           Conv2d-40            [-1, 256, 3, 3]          32,768\n",
            "      BatchNorm2d-41            [-1, 256, 3, 3]             512\n",
            "             ReLU-42            [-1, 256, 3, 3]               0\n",
            "       BasicBlock-43            [-1, 256, 3, 3]               0\n",
            "           Conv2d-44            [-1, 256, 3, 3]         589,824\n",
            "      BatchNorm2d-45            [-1, 256, 3, 3]             512\n",
            "             ReLU-46            [-1, 256, 3, 3]               0\n",
            "           Conv2d-47            [-1, 256, 3, 3]         589,824\n",
            "      BatchNorm2d-48            [-1, 256, 3, 3]             512\n",
            "             ReLU-49            [-1, 256, 3, 3]               0\n",
            "       BasicBlock-50            [-1, 256, 3, 3]               0\n",
            "           Conv2d-51            [-1, 512, 2, 2]       1,179,648\n",
            "      BatchNorm2d-52            [-1, 512, 2, 2]           1,024\n",
            "             ReLU-53            [-1, 512, 2, 2]               0\n",
            "           Conv2d-54            [-1, 512, 2, 2]       2,359,296\n",
            "      BatchNorm2d-55            [-1, 512, 2, 2]           1,024\n",
            "           Conv2d-56            [-1, 512, 2, 2]         131,072\n",
            "      BatchNorm2d-57            [-1, 512, 2, 2]           1,024\n",
            "             ReLU-58            [-1, 512, 2, 2]               0\n",
            "       BasicBlock-59            [-1, 512, 2, 2]               0\n",
            "           Conv2d-60            [-1, 512, 2, 2]       2,359,296\n",
            "      BatchNorm2d-61            [-1, 512, 2, 2]           1,024\n",
            "             ReLU-62            [-1, 512, 2, 2]               0\n",
            "           Conv2d-63            [-1, 512, 2, 2]       2,359,296\n",
            "      BatchNorm2d-64            [-1, 512, 2, 2]           1,024\n",
            "             ReLU-65            [-1, 512, 2, 2]               0\n",
            "       BasicBlock-66            [-1, 512, 2, 2]               0\n",
            "AdaptiveAvgPool2d-67            [-1, 512, 1, 1]               0\n",
            "           Linear-68                    [-1, 2]           1,026\n",
            "================================================================\n",
            "Total params: 11,168,706\n",
            "Trainable params: 11,168,706\n",
            "Non-trainable params: 0\n",
            "----------------------------------------------------------------\n",
            "Input size (MB): 0.01\n",
            "Forward/backward pass size (MB): 3.00\n",
            "Params size (MB): 42.61\n",
            "Estimated Total Size (MB): 45.61\n",
            "----------------------------------------------------------------\n"
          ]
        }
      ],
      "source": [
        "model_last = torchvision.models.resnet18(pretrained=False)\n",
        "model_last.conv1 = nn.Conv2d(1,64, kernel_size=(3,3), stride=(2,2), padding=(1,1), bias=False)\n",
        "model_last.fc = nn.Linear(in_features=512, out_features=2)\n",
        "summary(model_last.cuda(),(1,48,48))"
      ],
      "metadata": {
        "pycharm": {
          "name": "#%%\n"
        },
        "colab": {
          "base_uri": "https://localhost:8080/"
        },
        "id": "2Xq1Eh6Aymag",
        "outputId": "a9a8415d-b4b8-46de-de0a-9a98ed8494f9"
      }
    },
    {
      "cell_type": "code",
      "execution_count": 30,
      "outputs": [
        {
          "output_type": "stream",
          "name": "stdout",
          "text": [
            "Epoch 1/25\n",
            "----------\n",
            "train Loss: 0.6924 Acc: 0.5684\n",
            "val Loss: 0.6587 Acc: 0.6068\n",
            "\n",
            "Epoch 2/25\n",
            "----------\n",
            "train Loss: 0.6368 Acc: 0.6438\n",
            "val Loss: 0.6418 Acc: 0.6507\n",
            "\n",
            "Epoch 3/25\n",
            "----------\n",
            "train Loss: 0.5955 Acc: 0.6852\n",
            "val Loss: 0.6521 Acc: 0.6692\n",
            "\n",
            "Epoch 4/25\n",
            "----------\n",
            "train Loss: 0.5260 Acc: 0.7468\n",
            "val Loss: 0.6220 Acc: 0.6742\n",
            "\n",
            "Epoch 5/25\n",
            "----------\n",
            "train Loss: 0.4115 Acc: 0.8178\n",
            "val Loss: 0.7250 Acc: 0.6498\n",
            "\n",
            "Epoch 6/25\n",
            "----------\n",
            "train Loss: 0.2800 Acc: 0.8913\n",
            "val Loss: 0.9394 Acc: 0.6425\n",
            "\n",
            "Epoch 7/25\n",
            "----------\n",
            "train Loss: 0.1105 Acc: 0.9606\n",
            "val Loss: 1.0956 Acc: 0.6638\n",
            "\n",
            "Epoch 8/25\n",
            "----------\n",
            "train Loss: 0.0605 Acc: 0.9812\n",
            "val Loss: 1.2203 Acc: 0.6602\n",
            "\n",
            "Epoch 9/25\n",
            "----------\n",
            "train Loss: 0.0361 Acc: 0.9897\n",
            "val Loss: 1.4788 Acc: 0.6593\n",
            "\n",
            "Epoch 10/25\n",
            "----------\n",
            "train Loss: 0.0214 Acc: 0.9936\n",
            "val Loss: 1.7123 Acc: 0.6643\n",
            "\n",
            "Epoch 11/25\n",
            "----------\n",
            "train Loss: 0.0137 Acc: 0.9961\n",
            "val Loss: 1.8540 Acc: 0.6611\n",
            "\n",
            "Epoch 12/25\n",
            "----------\n",
            "train Loss: 0.0120 Acc: 0.9963\n",
            "val Loss: 1.9321 Acc: 0.6638\n",
            "\n",
            "Epoch 13/25\n",
            "----------\n",
            "train Loss: 0.0060 Acc: 0.9983\n",
            "val Loss: 1.9056 Acc: 0.6652\n",
            "\n",
            "Epoch 14/25\n",
            "----------\n",
            "train Loss: 0.0060 Acc: 0.9984\n",
            "val Loss: 2.0118 Acc: 0.6570\n",
            "\n",
            "Epoch 15/25\n",
            "----------\n",
            "train Loss: 0.0048 Acc: 0.9986\n",
            "val Loss: 2.0269 Acc: 0.6624\n",
            "\n",
            "Epoch 16/25\n",
            "----------\n",
            "train Loss: 0.0044 Acc: 0.9987\n",
            "val Loss: 2.0969 Acc: 0.6593\n",
            "\n",
            "Epoch 17/25\n",
            "----------\n",
            "train Loss: 0.0034 Acc: 0.9992\n",
            "val Loss: 2.1211 Acc: 0.6579\n",
            "\n",
            "Epoch 18/25\n",
            "----------\n",
            "train Loss: 0.0034 Acc: 0.9992\n",
            "val Loss: 2.0808 Acc: 0.6624\n",
            "\n",
            "Epoch 19/25\n",
            "----------\n",
            "train Loss: 0.0028 Acc: 0.9994\n",
            "val Loss: 2.1926 Acc: 0.6534\n",
            "\n",
            "Epoch 20/25\n",
            "----------\n",
            "train Loss: 0.0043 Acc: 0.9989\n",
            "val Loss: 2.1727 Acc: 0.6548\n",
            "\n",
            "Epoch 21/25\n",
            "----------\n",
            "train Loss: 0.0030 Acc: 0.9994\n",
            "val Loss: 2.1831 Acc: 0.6606\n",
            "\n",
            "Epoch 22/25\n",
            "----------\n",
            "train Loss: 0.0024 Acc: 0.9994\n",
            "val Loss: 2.2004 Acc: 0.6575\n",
            "\n",
            "Epoch 23/25\n",
            "----------\n",
            "train Loss: 0.0027 Acc: 0.9994\n",
            "val Loss: 2.1579 Acc: 0.6548\n",
            "\n",
            "Epoch 24/25\n",
            "----------\n",
            "train Loss: 0.0031 Acc: 0.9990\n",
            "val Loss: 2.1848 Acc: 0.6602\n",
            "\n",
            "Epoch 25/25\n",
            "----------\n",
            "train Loss: 0.0025 Acc: 0.9993\n",
            "val Loss: 2.1240 Acc: 0.6597\n",
            "\n",
            "Best val Acc: 0.674208\n"
          ]
        }
      ],
      "source": [
        "criterion = nn.CrossEntropyLoss()\n",
        "optimizer_conv = optim.Adam(model_last.parameters(),lr=0.005,betas=(0.9,0.999),eps=1e-08,weight_decay=0,amsgrad=False)\n",
        "exp_lr_scheduler = lr_scheduler.StepLR(optimizer_conv, step_size=6)\n",
        "model_last = model_last.to(device)\n",
        "model_last = train_model(model_last, criterion, optimizer_conv,exp_lr_scheduler,dataloaders_last, dataset_sizes_last, num_epochs=25)"
      ],
      "metadata": {
        "pycharm": {
          "name": "#%%\n"
        },
        "id": "jiiw5-w-ymag",
        "colab": {
          "base_uri": "https://localhost:8080/"
        },
        "outputId": "3b118a5f-b9c3-4e51-a63c-4d686da59778"
      }
    },
    {
      "cell_type": "code",
      "execution_count": 41,
      "outputs": [
        {
          "output_type": "stream",
          "name": "stdout",
          "text": [
            "              precision    recall  f1-score   support\n",
            "\n",
            "         Sad       0.66      0.63      0.64       608\n",
            "     Neutral       0.65      0.68      0.66       620\n",
            "\n",
            "    accuracy                           0.65      1228\n",
            "   macro avg       0.65      0.65      0.65      1228\n",
            "weighted avg       0.65      0.65      0.65      1228\n",
            "\n"
          ]
        },
        {
          "output_type": "execute_result",
          "data": {
            "text/plain": [
              "<matplotlib.axes._subplots.AxesSubplot at 0x7f89182b6390>"
            ]
          },
          "metadata": {},
          "execution_count": 41
        },
        {
          "output_type": "display_data",
          "data": {
            "text/plain": [
              "<Figure size 720x504 with 2 Axes>"
            ],
            "image/png": "[encoded data removed]"
          },
          "metadata": {
            "needs_background": "light"
          }
        }
      ],
      "source": [
        "y_pred, y_true = print_report(model_last, dataloaders_last,class_names_last)\n",
        "conf_matr = confusion_matrix(y_pred, y_true)\n",
        "plt.figure(figsize = (10,7))\n",
        "sn.heatmap(conf_matr, annot=True)"
      ],
      "metadata": {
        "pycharm": {
          "name": "#%%\n"
        },
        "id": "HBw5ApKVymag",
        "colab": {
          "base_uri": "https://localhost:8080/",
          "height": 602
        },
        "outputId": "1ec80585-d7ea-4586-e3f2-d93d73258dc8"
      }
    },
    {
      "cell_type": "code",
      "execution_count": 42,
      "outputs": [],
      "source": [
        "y_pred_final = torch.tensor([], dtype=int).to(device)\n",
        "y_true_final = torch.tensor([], dtype=int).to(device)\n",
        "with torch.no_grad():\n",
        "    model_1.eval()\n",
        "    model_last.eval()\n",
        "    for inputs, labels in dataloaders['test_final']:\n",
        "        inputs = inputs.to(device)\n",
        "        labels = labels.to(device)\n",
        "        outputs = model_1(inputs)\n",
        "        _, outputs = torch.max(outputs, dim = 1)\n",
        "        for i in range(outputs.shape[0]):\n",
        "          if outputs[i] == 4:\n",
        "            input = inputs[i][None, :]\n",
        "            output = model_last(input)\n",
        "            _, output = torch.max(output, dim = 1)\n",
        "            if output.item() == 1:\n",
        "              outputs[i] = 6\n",
        "            else:\n",
        "              outputs[i] = 4\n",
        "        y_pred_final = torch.cat((y_pred_final,outputs),0)\n",
        "        y_true_final = torch.cat((y_true_final,labels),0) "
      ],
      "metadata": {
        "pycharm": {
          "name": "#%%\n"
        },
        "id": "Gjclo3gEymah"
      }
    },
    {
      "cell_type": "code",
      "execution_count": 43,
      "outputs": [
        {
          "output_type": "stream",
          "name": "stdout",
          "text": [
            "              precision    recall  f1-score   support\n",
            "\n",
            "       Angry       0.51      0.52      0.51       495\n",
            "     Disgust       0.56      0.27      0.37        55\n",
            "        Fear       0.42      0.39      0.40       512\n",
            "       Happy       0.77      0.84      0.81       899\n",
            "         Sad       0.62      0.59      0.60       608\n",
            "    Surprise       0.69      0.74      0.71       400\n",
            "     Neutral       0.63      0.62      0.63       620\n",
            "\n",
            "    accuracy                           0.63      3589\n",
            "   macro avg       0.60      0.57      0.58      3589\n",
            "weighted avg       0.63      0.63      0.63      3589\n",
            "\n"
          ]
        }
      ],
      "source": [
        "y_true_final = y_true_final.cpu()\n",
        "y_pred_final = y_pred_final.cpu()\n",
        "class_names_final = ['Angry', 'Disgust', 'Fear', 'Happy', 'Sad', 'Surprise', 'Neutral']\n",
        "print(classification_report(y_true_final,y_pred_final,target_names=class_names_final))"
      ],
      "metadata": {
        "pycharm": {
          "name": "#%%\n"
        },
        "id": "oyHsGgr6ymah",
        "colab": {
          "base_uri": "https://localhost:8080/"
        },
        "outputId": "e54b87cc-c337-4cd3-96cd-d7f5f0a60199"
      }
    },
    {
      "cell_type": "code",
      "execution_count": 44,
      "outputs": [
        {
          "output_type": "execute_result",
          "data": {
            "text/plain": [
              "<matplotlib.axes._subplots.AxesSubplot at 0x7f8919048450>"
            ]
          },
          "metadata": {},
          "execution_count": 44
        },
        {
          "output_type": "display_data",
          "data": {
            "text/plain": [
              "<Figure size 720x504 with 2 Axes>"
            ],
            "image/png": "[encoded data removed]"
          },
          "metadata": {
            "needs_background": "light"
          }
        }
      ],
      "source": [
        "conf_matr = confusion_matrix(y_true_final,y_pred_final)\n",
        "plt.figure(figsize = (10,7))\n",
        "sn.heatmap(conf_matr, annot=True)"
      ],
      "metadata": {
        "pycharm": {
          "name": "#%%\n"
        },
        "id": "C0m2ZdpBymah",
        "colab": {
          "base_uri": "https://localhost:8080/",
          "height": 445
        },
        "outputId": "34bdbeec-9f0a-44e7-c412-6f851e025fe2"
      }
    },
    {
      "cell_type": "code",
      "execution_count": 45,
      "outputs": [],
      "source": [
        "y_pred_final = torch.tensor([], dtype=int).to(device)\n",
        "y_true_final = torch.tensor([], dtype=int).to(device)\n",
        "with torch.no_grad():\n",
        "    model_1.eval()\n",
        "    model_2.eval()\n",
        "    model_3.eval()\n",
        "    model_last.eval()\n",
        "    for inputs, labels in dataloaders['test_final']:\n",
        "        inputs = inputs.to(device)\n",
        "        labels = labels.to(device)\n",
        "        outputs_1 = model_1(inputs)\n",
        "        outputs_2 = model_2(inputs)\n",
        "        outputs_3 = model_3(inputs)\n",
        "        outputs = outputs_1 * 0.6 + outputs_2 * 0.3 + outputs_3 * 0.1\n",
        "        _, outputs = torch.max(outputs, dim = 1)\n",
        "        for i in range(outputs.shape[0]):\n",
        "          if outputs[i] == 4:\n",
        "            input = inputs[i][None, :]\n",
        "            output = model_last(input)\n",
        "            _, output = torch.max(output, dim = 1)\n",
        "            if output.item() == 1:\n",
        "              outputs[i] = 6\n",
        "            else:\n",
        "              outputs[i] = 4\n",
        "        y_pred_final = torch.cat((y_pred_final,outputs),0)\n",
        "        y_true_final = torch.cat((y_true_final,labels),0) "
      ],
      "metadata": {
        "pycharm": {
          "name": "#%%\n"
        },
        "id": "4AgK5_suymah"
      }
    },
    {
      "cell_type": "code",
      "source": [
        "y_true_final = y_true_final.cpu()\n",
        "y_pred_final = y_pred_final.cpu()\n",
        "class_names_final = ['Angry', 'Disgust', 'Fear', 'Happy', 'Sad', 'Surprise', 'Neutral']\n",
        "print(classification_report(y_true_final,y_pred_final,target_names=class_names_final))"
      ],
      "metadata": {
        "colab": {
          "base_uri": "https://localhost:8080/"
        },
        "id": "Xbu-bR5YY6L0",
        "outputId": "d9c4b9ac-81fe-4754-f64b-b19798b806ba"
      },
      "execution_count": 46,
      "outputs": [
        {
          "output_type": "stream",
          "name": "stdout",
          "text": [
            "              precision    recall  f1-score   support\n",
            "\n",
            "       Angry       0.59      0.53      0.56       495\n",
            "     Disgust       0.69      0.33      0.44        55\n",
            "        Fear       0.53      0.40      0.46       512\n",
            "       Happy       0.81      0.83      0.82       899\n",
            "         Sad       0.60      0.66      0.63       608\n",
            "    Surprise       0.73      0.76      0.74       400\n",
            "     Neutral       0.63      0.74      0.68       620\n",
            "\n",
            "    accuracy                           0.67      3589\n",
            "   macro avg       0.65      0.61      0.62      3589\n",
            "weighted avg       0.66      0.67      0.66      3589\n",
            "\n"
          ]
        }
      ]
    },
    {
      "cell_type": "code",
      "source": [
        "conf_matr = confusion_matrix(y_true_final,y_pred_final)\n",
        "plt.figure(figsize = (10,7))\n",
        "sn.heatmap(conf_matr, annot=True)"
      ],
      "metadata": {
        "colab": {
          "base_uri": "https://localhost:8080/",
          "height": 445
        },
        "id": "TAVlFfbLZBbi",
        "outputId": "f09189a9-f5a3-4fb1-acd6-78c430f78f5f"
      },
      "execution_count": 47,
      "outputs": [
        {
          "output_type": "execute_result",
          "data": {
            "text/plain": [
              "<matplotlib.axes._subplots.AxesSubplot at 0x7f891bb2f250>"
            ]
          },
          "metadata": {},
          "execution_count": 47
        },
        {
          "output_type": "display_data",
          "data": {
            "text/plain": [
              "<Figure size 720x504 with 2 Axes>"
            ],
            "image/png": "[encoded data removed]"
          },
          "metadata": {
            "needs_background": "light"
          }
        }
      ]
    }
  ],
  "metadata": {
    "accelerator": "GPU",
    "colab": {
      "collapsed_sections": [],
      "name": "Yasinetski_src.ipynb",
      "provenance": []
    },
    "datalore": {
      "base_environment": "default",
      "computation_mode": "JUPYTER",
      "package_manager": "pip",
      "packages": [],
      "version": 1
    },
    "gpuClass": "standard",
    "kernelspec": {
      "display_name": "Python 3",
      "name": "python3"
    },
    "language_info": {
      "name": "python"
    }
  },
  "nbformat": 4,
  "nbformat_minor": 0
}